{
 "cells": [
  {
   "cell_type": "markdown",
   "metadata": {},
   "source": [
    "# TX00DQ05-3001 Reinforcement Learning, exercises 1"
   ]
  },
  {
   "cell_type": "code",
   "execution_count": 1,
   "metadata": {},
   "outputs": [],
   "source": [
    "# import numpy and other useful packages\n",
    "import numpy as np\n",
    "import numpy.linalg as LA"
   ]
  },
  {
   "cell_type": "markdown",
   "metadata": {},
   "source": [
    "## Weather example\n",
    "\n",
    "P is the transition matrix and t0 weather on day 0"
   ]
  },
  {
   "cell_type": "code",
   "execution_count": 2,
   "metadata": {},
   "outputs": [
    {
     "name": "stdout",
     "output_type": "stream",
     "text": [
      "[0.6 0.4]\n",
      "[0.36 0.64]\n",
      "[0.36 0.64]\n",
      "[0.42852649 0.57147351]\n",
      "[0.42857143 0.57142857]\n",
      "[0.42857143 0.57142857]\n"
     ]
    }
   ],
   "source": [
    "P = np.array(([0.2, 0.8], [0.6, 0.4]))\n",
    "t0 = np.array([0.0, 1.0])\n",
    "\n",
    "t1 = np.dot(t0, P)\n",
    "print(t1)\n",
    "t2 = np.dot(t1, P)\n",
    "print(t2)\n",
    "print(np.dot(t0, LA.matrix_power(P, 2)))\n",
    "print(np.dot(t0, LA.matrix_power(P, 10)))\n",
    "print(np.dot(t0, LA.matrix_power(P, 30)))\n",
    "print(np.dot(t0, LA.matrix_power(P, 50)))"
   ]
  },
  {
   "cell_type": "markdown",
   "metadata": {},
   "source": [
    "## Exercise 1\n",
    "\n",
    "Check some matrix algebra identities with numpy.\n",
    "\n",
    "* A + B = B + A\n",
    "* cA + cB = c(A + B) where c is scalar\n",
    "* if shape of A is (x,y), shape of A.T (transpose) is (y,x) \n",
    "* if v is vector of shape (x,), then v dot A has shape (y,)\n",
    "* verify that shape of A.T dot B is (y, y) and shape of A dot B.T is (x, x)"
   ]
  },
  {
   "cell_type": "code",
   "execution_count": 3,
   "metadata": {},
   "outputs": [
    {
     "name": "stdout",
     "output_type": "stream",
     "text": [
      "A+B was: \n",
      " [[1 3 5]\n",
      " [4 1 3]\n",
      " [5 1 1]\n",
      " [5 3 3]]\n",
      "\n",
      "B+A was: \n",
      " [[1 3 5]\n",
      " [4 1 3]\n",
      " [5 1 1]\n",
      " [5 3 3]]\n",
      "looks the same\n",
      "\n",
      "c*A + c*B was: \n",
      " [[ 5. 15. 25.]\n",
      " [20.  5. 15.]\n",
      " [25.  5.  5.]\n",
      " [25. 15. 15.]]\n",
      "\n",
      "c*(A+B) was:\n",
      " [[ 5. 15. 25.]\n",
      " [20.  5. 15.]\n",
      " [25.  5.  5.]\n",
      " [25. 15. 15.]]\n",
      "looks the same\n",
      "\n",
      "A was: \n",
      " [[1 2 3]\n",
      " [2 0 2]\n",
      " [3 0 1]\n",
      " [4 1 0]]\n",
      "\n",
      "A.T was: \n",
      " [[1 2 3 4]\n",
      " [2 0 0 1]\n",
      " [3 2 1 0]]\n",
      "\n",
      "A shape was (4, 3)\n",
      "A.T shape was (3, 4)\n",
      "looks ok to me, 2nd row 1st col -> 1st row 2nd col, \n",
      " and 3rd row 1st col -> 1st row 3rd col etc...\n",
      "\n",
      "v shape was:  (4,)\n",
      "v was: \n",
      " [2 3 4 5]\n",
      "v.dotA shape was:  (3,)\n",
      "\n",
      "v.dotA was: \n",
      " [40  9 16]\n",
      "as a sidenote, you can doublecheck it with matrix multiplication rules if the A =4x3matrix,\n",
      " , and v.dotA= 1x3 matrix, \n",
      " then it follows that v itself must have been= 1x4 matrix (or rather vector) (assuming you want the operation to be legally defined)\n",
      "A.T.dot(B) shape was:  (3, 3)\n",
      "A.dot(B.T) shape was:  (4, 4)\n",
      "looks ok to me\n"
     ]
    }
   ],
   "source": [
    "A = np.array(([1, 2, 3], [2, 0 ,2], [3, 0, 1], [4, 1 ,0]))\n",
    "B = np.array(([0, 1, 2], [2, 1, 1], [2, 1, 0], [1, 2, 3]))\n",
    "c = 5.0\n",
    "# YOUR CODE HERE\n",
    "v= np.array( ([2,3,4,5]    )  )\n",
    "\n",
    "\n",
    "\n",
    "print('A+B was: \\n',A+B)  ##•A + B = B + A\n",
    "print('')\n",
    "print('B+A was: \\n', B+A)\n",
    "print('looks the same')\n",
    "\n",
    "print('') ##•cA + cB = c(A + B) where c is scalar\n",
    "print('c*A + c*B was: \\n', c*A + c*B)\n",
    "print('')\n",
    "print( 'c*(A+B) was:\\n',c*(A+B) )\n",
    "print('looks the same')\n",
    "\n",
    "\n",
    "print('') ##•if shape of A is (x,y), shape of A.T (transpose) is (y,x) \n",
    "print('A was: \\n',A)\n",
    "print('')\n",
    "print('A.T was: \\n',A.T)\n",
    "print('')\n",
    "print('A shape was', A.shape)\n",
    "print('A.T shape was', A.T.shape)\n",
    "print('looks ok to me, 2nd row 1st col -> 1st row 2nd col, \\n \\\n",
    "and 3rd row 1st col -> 1st row 3rd col etc...')\n",
    "\n",
    "\n",
    "print('')  ##•if v is vector of shape (x,), then v dot A has shape (y,)\n",
    "print('v shape was: ',v.shape )\n",
    "print('v was: \\n', v)\n",
    "print('v.dotA shape was: ', (v.dot(A)).shape )\n",
    "print('')\n",
    "print('v.dotA was: \\n', v.dot(A))\n",
    "print('as a sidenote, you can doublecheck it with matrix multiplication rules if the A =4x3matrix,\\n \\\n",
    ", and v.dotA= 1x3 matrix, \\n \\\n",
    "then it follows that v itself must have been= 1x4 matrix (or rather vector) (assuming you want the operation to be legally defined)')\n",
    "\n",
    "\n",
    "print('A.T.dot(B) shape was: ', A.T.dot(B).shape)##•verify that shape of A.T dot B is (y, y) and shape of A dot B.T is (x, x)\n",
    "print('A.dot(B.T) shape was: ', A.dot(B.T).shape)\n",
    "print('looks ok to me')"
   ]
  },
  {
   "cell_type": "markdown",
   "metadata": {},
   "source": [
    "## Exercise 2\n",
    "\n",
    "Throw a dice (1..6) repeadetly and maintain the mean value of the \n",
    "numbers continously (and without explicitly storing the numbers or their sum) by\n",
    "computing a correction factor to the previous mean.\n",
    "\n",
    "Hint: mean(n) = sum(n) / n = (sum(n-1) + a(n)) / n = (mean(n-1) * (n-1) + a(n)) / n =\n",
    "mean(n-1) + (a(n) - mean(n-1)) / n\n",
    "\n",
    "Stop computation when correction factor stays below eps for b rounds or if you reach maxiter iterations.\n",
    "\n",
    "How does changing eps and b influence the number of iterations needed?"
   ]
  },
  {
   "cell_type": "code",
   "execution_count": 4,
   "metadata": {},
   "outputs": [
    {
     "name": "stdout",
     "output_type": "stream",
     "text": [
      "you did iterations ==  250083\n",
      "mean ==  3.500265911717274\n",
      "corr ==  5.996969347185029e-06\n"
     ]
    }
   ],
   "source": [
    "eps = 0.00001\n",
    "b = 50\n",
    "maxiter = 1000000\n",
    "\n",
    "# YOUR CODE HERE\n",
    "\n",
    "i = 1.0 \n",
    "mean = 0\n",
    "corr = 0\n",
    "stopcounter = 0\n",
    "\n",
    "for i in range(1, maxiter+1):\n",
    "    dice = np.random.randint(1,7) ##first dice throw == first mean\n",
    "    #print('dice was: ',dice , '\\n ')\n",
    "    if i == 1:\n",
    "        mean = dice\n",
    "        corr = 0  ## first corr == 0\n",
    "    else:\n",
    "        corr = (( dice - mean) / i )\n",
    "        mean = mean + corr\n",
    "        if abs(corr) < eps:\n",
    "            stopcounter += 1\n",
    "        else:\n",
    "            stopcounter = 0\n",
    "    if stopcounter >= b:\n",
    "        break\n",
    "        \n",
    "        \n",
    "print('you did iterations == ', i)\n",
    "print('mean == ', mean)\n",
    "print('corr == ', corr)\n",
    "            \n",
    "\n",
    "\n",
    "\n"
   ]
  },
  {
   "cell_type": "code",
   "execution_count": 5,
   "metadata": {},
   "outputs": [
    {
     "name": "stdout",
     "output_type": "stream",
     "text": [
      "you did iterations ==  250645\n",
      "mean ==  3.4941590462967453\n",
      "corr ==  -5.961279928187106e-06\n"
     ]
    }
   ],
   "source": [
    "def getMeanFromReturns(oldMean, n, curVal):\n",
    "    newMean = 0\n",
    "    if  n == 0 and oldMean == 0:\n",
    "        return newMean\n",
    "    elif n == 1:\n",
    "        return curVal\n",
    "    elif n >= 2:\n",
    "        newMean = oldMean + 1/(n-1) * (curVal - oldMean)\n",
    "        return newMean\n",
    "\n",
    "    \n",
    "eps = 0.00001\n",
    "b = 50\n",
    "maxiter = 1000000\n",
    "mean = 0\n",
    "corr = 0\n",
    "stopcounter = 0\n",
    "\n",
    "M = 0\n",
    "\n",
    "#curVal == dice\n",
    "i = 1.0 \n",
    "#n == i\n",
    "\n",
    "for i in range(1, maxiter+1):\n",
    "    dice = np.random.randint(1,7) ##first dice throw == first mean\n",
    "    if i == 1:\n",
    "        M = dice\n",
    "        M = getMeanFromReturns(M, i, dice)\n",
    "        corr = 0  ## first corr == 0\n",
    "    else:\n",
    "        corr = ( ( dice - M) / i )\n",
    "        M = getMeanFromReturns(M, i, dice)\n",
    "        if abs(corr) < eps:\n",
    "            stopcounter += 1\n",
    "        else:\n",
    "            stopcounter = 0\n",
    "    if stopcounter >= b:\n",
    "        break        \n",
    "        \n",
    "print('you did iterations == ', i)\n",
    "print('mean == ', M)\n",
    "print('corr == ', corr)    \n",
    "    "
   ]
  },
  {
   "cell_type": "code",
   "execution_count": 6,
   "metadata": {},
   "outputs": [
    {
     "name": "stdout",
     "output_type": "stream",
     "text": [
      "real mean was  3.500656\n",
      "wtf mate?! I thought that the mean was suppsoed to be \n",
      " close towards 3.0 or something like that, because the dice is from interval [1, 6] \n",
      "\n",
      "on the other hand, it is true that the expected value is supposed to be 1/6 * (1+2+3+4+5+6) = 3.5 \n",
      " as that is the correct formula, when I looked it up on wikipedia\n",
      "on the other hand it does seem to make intuitive sense also \n",
      " if you draw the sequence of numbers [1, 2, 3, 4, 5, 6] \n",
      " then it is true that the 3.5 is basically the value in the center exactly speaking \n",
      " and with equally likely probability of each result in a dice roll, then I think 3.5 makes sense\n"
     ]
    }
   ],
   "source": [
    "#double checking the mean calculations in regular style\n",
    "\n",
    "meanSum = 0\n",
    "mean = 0\n",
    "dice = 0\n",
    "for i in range(1, maxiter +1):\n",
    "    dice = np.random.randint(1,7)\n",
    "    meanSum += dice\n",
    "    mean = meanSum / i\n",
    "    \n",
    "    \n",
    "print('real mean was ', mean)\n",
    "print('wtf mate?! I thought that the mean was suppsoed to be \\n \\\n",
    "close towards 3.0 or something like that, because the dice is from interval [1, 6] \\n')\n",
    "\n",
    "print('on the other hand, it is true that the expected value is supposed to be 1/6 * (1+2+3+4+5+6) = 3.5 \\n \\\n",
    "as that is the correct formula, when I looked it up on wikipedia' )\n",
    "\n",
    "print('on the other hand it does seem to make intuitive sense also \\n \\\n",
    "if you draw the sequence of numbers [1, 2, 3, 4, 5, 6] \\n \\\n",
    "then it is true that the 3.5 is basically the value in the center exactly speaking \\n \\\n",
    "and with equally likely probability of each result in a dice roll, then I think 3.5 makes sense')"
   ]
  },
  {
   "cell_type": "markdown",
   "metadata": {},
   "source": [
    "## Exercise 3\n",
    "\n",
    "Given transition matrix P and initial state t0 write \n",
    "an iterative algorithm to find the steady state.\n",
    "\n",
    "Stopping condition is that the norm (length of vector, use LA.norm) \n",
    "does not change more than eps in an iteration"
   ]
  },
  {
   "cell_type": "code",
   "execution_count": 7,
   "metadata": {},
   "outputs": [
    {
     "name": "stdout",
     "output_type": "stream",
     "text": [
      "t_i ==  [0.31250005 0.14062499 0.54687496]\n",
      "\n",
      "diff ==  1.870303589779354e-08\n",
      "\n",
      "iterations ==  13\n"
     ]
    }
   ],
   "source": [
    "maxiter = 10000\n",
    "eps = 0.0000001\n",
    "\n",
    "P = np.array(([0.2, 0.1, 0.7], [1.0, 0.0, 0.0], [0.2, 0.2, 0.6]))\n",
    "t0 = np.array([1.0, 0.0, 0.0])\n",
    "\n",
    "# YOUR CODE HERE\n",
    "t_i = t0\n",
    "t0Len = LA.norm(t0)\n",
    "diff = 0\n",
    "\n",
    "for i in range(1, maxiter + 1):\n",
    "    t_iLen = LA.norm(t_i) ## store prev length\n",
    "    t_i = np.dot(t_i, P) ##get new t_i vector, update it\n",
    "    diff = LA.norm(t_i) - t_iLen ##compute the new diff based on prevNorm and curNorm\n",
    "    if abs(diff) < eps:\n",
    "        break\n",
    "\n",
    "print('t_i == ', t_i )\n",
    "print('')\n",
    "print('diff == ', diff)\n",
    "print('')\n",
    "print('iterations == ', i)\n",
    "\n"
   ]
  },
  {
   "cell_type": "code",
   "execution_count": null,
   "metadata": {},
   "outputs": [],
   "source": []
  }
 ],
 "metadata": {
  "kernelspec": {
   "display_name": "Python 3",
   "language": "python",
   "name": "python3"
  },
  "language_info": {
   "codemirror_mode": {
    "name": "ipython",
    "version": 3
   },
   "file_extension": ".py",
   "mimetype": "text/x-python",
   "name": "python",
   "nbconvert_exporter": "python",
   "pygments_lexer": "ipython3",
   "version": "3.6.8"
  }
 },
 "nbformat": 4,
 "nbformat_minor": 2
}
